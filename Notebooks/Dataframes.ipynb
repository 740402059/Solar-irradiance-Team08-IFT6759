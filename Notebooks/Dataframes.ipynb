{
 "cells": [
  {
   "cell_type": "code",
   "execution_count": 1,
   "metadata": {},
   "outputs": [],
   "source": [
    "import pandas as pd\n",
    "import numpy as np\n",
    "import json\n",
    "import datetime"
   ]
  },
  {
   "cell_type": "code",
   "execution_count": 2,
   "metadata": {},
   "outputs": [
    {
     "data": {
      "text/plain": [
       "'/home/alex/Solar-irradiance-Team08-IFT6759/Notebooks'"
      ]
     },
     "execution_count": 2,
     "metadata": {},
     "output_type": "execute_result"
    }
   ],
   "source": [
    "import os\n",
    "os.getcwd()"
   ]
  },
  {
   "cell_type": "code",
   "execution_count": 3,
   "metadata": {},
   "outputs": [],
   "source": [
    "admin_config_path = \"../train_cfg.json\"\n",
    "with open(admin_config_path, \"r\") as fd:\n",
    "    admin_config = json.load(fd)"
   ]
  },
  {
   "cell_type": "code",
   "execution_count": 4,
   "metadata": {},
   "outputs": [],
   "source": [
    "dataframe_path = admin_config['dataframe_path']\n",
    "df = pd.read_pickle('../' + dataframe_path)"
   ]
  },
  {
   "cell_type": "code",
   "execution_count": 5,
   "metadata": {},
   "outputs": [
    {
     "data": {
      "text/html": [
       "<div>\n",
       "<style scoped>\n",
       "    .dataframe tbody tr th:only-of-type {\n",
       "        vertical-align: middle;\n",
       "    }\n",
       "\n",
       "    .dataframe tbody tr th {\n",
       "        vertical-align: top;\n",
       "    }\n",
       "\n",
       "    .dataframe thead th {\n",
       "        text-align: right;\n",
       "    }\n",
       "</style>\n",
       "<table border=\"1\" class=\"dataframe\">\n",
       "  <thead>\n",
       "    <tr style=\"text-align: right;\">\n",
       "      <th></th>\n",
       "      <th>ncdf_path</th>\n",
       "      <th>hdf5_8bit_path</th>\n",
       "      <th>hdf5_8bit_offset</th>\n",
       "      <th>hdf5_16bit_path</th>\n",
       "      <th>hdf5_16bit_offset</th>\n",
       "      <th>BND_DAYTIME</th>\n",
       "      <th>BND_CLEARSKY_GHI</th>\n",
       "      <th>BND_CLOUDINESS</th>\n",
       "      <th>BND_GHI</th>\n",
       "      <th>TBL_DAYTIME</th>\n",
       "      <th>...</th>\n",
       "      <th>GWN_CLOUDINESS</th>\n",
       "      <th>GWN_GHI</th>\n",
       "      <th>PSU_DAYTIME</th>\n",
       "      <th>PSU_CLEARSKY_GHI</th>\n",
       "      <th>PSU_CLOUDINESS</th>\n",
       "      <th>PSU_GHI</th>\n",
       "      <th>SXF_DAYTIME</th>\n",
       "      <th>SXF_CLEARSKY_GHI</th>\n",
       "      <th>SXF_CLOUDINESS</th>\n",
       "      <th>SXF_GHI</th>\n",
       "    </tr>\n",
       "    <tr>\n",
       "      <th>iso-datetime</th>\n",
       "      <th></th>\n",
       "      <th></th>\n",
       "      <th></th>\n",
       "      <th></th>\n",
       "      <th></th>\n",
       "      <th></th>\n",
       "      <th></th>\n",
       "      <th></th>\n",
       "      <th></th>\n",
       "      <th></th>\n",
       "      <th></th>\n",
       "      <th></th>\n",
       "      <th></th>\n",
       "      <th></th>\n",
       "      <th></th>\n",
       "      <th></th>\n",
       "      <th></th>\n",
       "      <th></th>\n",
       "      <th></th>\n",
       "      <th></th>\n",
       "      <th></th>\n",
       "    </tr>\n",
       "  </thead>\n",
       "  <tbody>\n",
       "    <tr>\n",
       "      <td>2010-01-01 00:00:00</td>\n",
       "      <td>NaN</td>\n",
       "      <td>NaN</td>\n",
       "      <td>NaN</td>\n",
       "      <td>NaN</td>\n",
       "      <td>NaN</td>\n",
       "      <td>0.0</td>\n",
       "      <td>0.0</td>\n",
       "      <td>night</td>\n",
       "      <td>-4.1</td>\n",
       "      <td>0.0</td>\n",
       "      <td>...</td>\n",
       "      <td>night</td>\n",
       "      <td>-7.500000</td>\n",
       "      <td>0.0</td>\n",
       "      <td>0.0</td>\n",
       "      <td>night</td>\n",
       "      <td>-1.500000</td>\n",
       "      <td>0.0</td>\n",
       "      <td>0.0</td>\n",
       "      <td>night</td>\n",
       "      <td>-3.800000</td>\n",
       "    </tr>\n",
       "    <tr>\n",
       "      <td>2010-01-01 00:15:00</td>\n",
       "      <td>NaN</td>\n",
       "      <td>NaN</td>\n",
       "      <td>NaN</td>\n",
       "      <td>NaN</td>\n",
       "      <td>NaN</td>\n",
       "      <td>0.0</td>\n",
       "      <td>0.0</td>\n",
       "      <td>night</td>\n",
       "      <td>-4.1</td>\n",
       "      <td>0.0</td>\n",
       "      <td>...</td>\n",
       "      <td>night</td>\n",
       "      <td>-7.493333</td>\n",
       "      <td>0.0</td>\n",
       "      <td>0.0</td>\n",
       "      <td>night</td>\n",
       "      <td>-1.446667</td>\n",
       "      <td>0.0</td>\n",
       "      <td>0.0</td>\n",
       "      <td>night</td>\n",
       "      <td>-3.893333</td>\n",
       "    </tr>\n",
       "    <tr>\n",
       "      <td>2010-01-01 00:30:00</td>\n",
       "      <td>NaN</td>\n",
       "      <td>NaN</td>\n",
       "      <td>NaN</td>\n",
       "      <td>NaN</td>\n",
       "      <td>NaN</td>\n",
       "      <td>0.0</td>\n",
       "      <td>0.0</td>\n",
       "      <td>night</td>\n",
       "      <td>-4.1</td>\n",
       "      <td>0.0</td>\n",
       "      <td>...</td>\n",
       "      <td>night</td>\n",
       "      <td>-7.420000</td>\n",
       "      <td>0.0</td>\n",
       "      <td>0.0</td>\n",
       "      <td>night</td>\n",
       "      <td>-1.766667</td>\n",
       "      <td>0.0</td>\n",
       "      <td>0.0</td>\n",
       "      <td>night</td>\n",
       "      <td>-4.166667</td>\n",
       "    </tr>\n",
       "    <tr>\n",
       "      <td>2010-01-01 00:45:00</td>\n",
       "      <td>NaN</td>\n",
       "      <td>NaN</td>\n",
       "      <td>NaN</td>\n",
       "      <td>NaN</td>\n",
       "      <td>NaN</td>\n",
       "      <td>0.0</td>\n",
       "      <td>0.0</td>\n",
       "      <td>night</td>\n",
       "      <td>-4.1</td>\n",
       "      <td>0.0</td>\n",
       "      <td>...</td>\n",
       "      <td>night</td>\n",
       "      <td>-7.533333</td>\n",
       "      <td>0.0</td>\n",
       "      <td>0.0</td>\n",
       "      <td>night</td>\n",
       "      <td>-2.033333</td>\n",
       "      <td>0.0</td>\n",
       "      <td>0.0</td>\n",
       "      <td>night</td>\n",
       "      <td>-4.040000</td>\n",
       "    </tr>\n",
       "    <tr>\n",
       "      <td>2010-01-01 01:00:00</td>\n",
       "      <td>NaN</td>\n",
       "      <td>NaN</td>\n",
       "      <td>NaN</td>\n",
       "      <td>NaN</td>\n",
       "      <td>NaN</td>\n",
       "      <td>0.0</td>\n",
       "      <td>0.0</td>\n",
       "      <td>night</td>\n",
       "      <td>-4.1</td>\n",
       "      <td>0.0</td>\n",
       "      <td>...</td>\n",
       "      <td>night</td>\n",
       "      <td>-7.586667</td>\n",
       "      <td>0.0</td>\n",
       "      <td>0.0</td>\n",
       "      <td>night</td>\n",
       "      <td>-2.006667</td>\n",
       "      <td>0.0</td>\n",
       "      <td>0.0</td>\n",
       "      <td>night</td>\n",
       "      <td>-4.133333</td>\n",
       "    </tr>\n",
       "  </tbody>\n",
       "</table>\n",
       "<p>5 rows × 33 columns</p>\n",
       "</div>"
      ],
      "text/plain": [
       "                    ncdf_path hdf5_8bit_path  hdf5_8bit_offset  \\\n",
       "iso-datetime                                                     \n",
       "2010-01-01 00:00:00       NaN            NaN               NaN   \n",
       "2010-01-01 00:15:00       NaN            NaN               NaN   \n",
       "2010-01-01 00:30:00       NaN            NaN               NaN   \n",
       "2010-01-01 00:45:00       NaN            NaN               NaN   \n",
       "2010-01-01 01:00:00       NaN            NaN               NaN   \n",
       "\n",
       "                    hdf5_16bit_path  hdf5_16bit_offset  BND_DAYTIME  \\\n",
       "iso-datetime                                                          \n",
       "2010-01-01 00:00:00             NaN                NaN          0.0   \n",
       "2010-01-01 00:15:00             NaN                NaN          0.0   \n",
       "2010-01-01 00:30:00             NaN                NaN          0.0   \n",
       "2010-01-01 00:45:00             NaN                NaN          0.0   \n",
       "2010-01-01 01:00:00             NaN                NaN          0.0   \n",
       "\n",
       "                     BND_CLEARSKY_GHI BND_CLOUDINESS  BND_GHI  TBL_DAYTIME  \\\n",
       "iso-datetime                                                                 \n",
       "2010-01-01 00:00:00               0.0          night     -4.1          0.0   \n",
       "2010-01-01 00:15:00               0.0          night     -4.1          0.0   \n",
       "2010-01-01 00:30:00               0.0          night     -4.1          0.0   \n",
       "2010-01-01 00:45:00               0.0          night     -4.1          0.0   \n",
       "2010-01-01 01:00:00               0.0          night     -4.1          0.0   \n",
       "\n",
       "                     ...  GWN_CLOUDINESS   GWN_GHI  PSU_DAYTIME  \\\n",
       "iso-datetime         ...                                          \n",
       "2010-01-01 00:00:00  ...           night -7.500000          0.0   \n",
       "2010-01-01 00:15:00  ...           night -7.493333          0.0   \n",
       "2010-01-01 00:30:00  ...           night -7.420000          0.0   \n",
       "2010-01-01 00:45:00  ...           night -7.533333          0.0   \n",
       "2010-01-01 01:00:00  ...           night -7.586667          0.0   \n",
       "\n",
       "                     PSU_CLEARSKY_GHI  PSU_CLOUDINESS   PSU_GHI  SXF_DAYTIME  \\\n",
       "iso-datetime                                                                   \n",
       "2010-01-01 00:00:00               0.0           night -1.500000          0.0   \n",
       "2010-01-01 00:15:00               0.0           night -1.446667          0.0   \n",
       "2010-01-01 00:30:00               0.0           night -1.766667          0.0   \n",
       "2010-01-01 00:45:00               0.0           night -2.033333          0.0   \n",
       "2010-01-01 01:00:00               0.0           night -2.006667          0.0   \n",
       "\n",
       "                     SXF_CLEARSKY_GHI  SXF_CLOUDINESS   SXF_GHI  \n",
       "iso-datetime                                                     \n",
       "2010-01-01 00:00:00               0.0           night -3.800000  \n",
       "2010-01-01 00:15:00               0.0           night -3.893333  \n",
       "2010-01-01 00:30:00               0.0           night -4.166667  \n",
       "2010-01-01 00:45:00               0.0           night -4.040000  \n",
       "2010-01-01 01:00:00               0.0           night -4.133333  \n",
       "\n",
       "[5 rows x 33 columns]"
      ]
     },
     "execution_count": 5,
     "metadata": {},
     "output_type": "execute_result"
    }
   ],
   "source": [
    "df.replace(to_replace=\"nan\", value=np.NaN, inplace=True)\n",
    "df.head()"
   ]
  },
  {
   "cell_type": "code",
   "execution_count": 6,
   "metadata": {},
   "outputs": [],
   "source": [
    "station_id = \"BND\"\n",
    "image_type = \"hdf5_8bit\"\n",
    "daytime = df[station_id + \"_DAYTIME\"] == 1.0\n",
    "valid_ghi = ~df[station_id + \"_GHI\"].isna()\n",
    "valid_datetime = daytime & valid_ghi\n",
    "df = df.loc[valid_datetime]"
   ]
  },
  {
   "cell_type": "code",
   "execution_count": 7,
   "metadata": {},
   "outputs": [],
   "source": [
    "# df.isna().sum()"
   ]
  },
  {
   "cell_type": "code",
   "execution_count": 8,
   "metadata": {},
   "outputs": [
    {
     "data": {
      "text/plain": [
       "DatetimeIndex(['2010-01-01 13:30:00', '2010-01-01 13:45:00',\n",
       "               '2010-01-01 14:00:00', '2010-01-01 14:15:00',\n",
       "               '2010-01-01 14:30:00', '2010-01-01 14:45:00',\n",
       "               '2010-01-01 15:00:00', '2010-01-01 15:15:00',\n",
       "               '2010-01-01 15:30:00', '2010-01-01 15:45:00',\n",
       "               ...\n",
       "               '2015-12-31 20:15:00', '2015-12-31 20:30:00',\n",
       "               '2015-12-31 20:45:00', '2015-12-31 21:00:00',\n",
       "               '2015-12-31 21:15:00', '2015-12-31 21:30:00',\n",
       "               '2015-12-31 21:45:00', '2015-12-31 22:00:00',\n",
       "               '2015-12-31 22:15:00', '2015-12-31 22:30:00'],\n",
       "              dtype='datetime64[ns]', name='iso-datetime', length=106385, freq=None)"
      ]
     },
     "execution_count": 8,
     "metadata": {},
     "output_type": "execute_result"
    }
   ],
   "source": [
    "candidate_datetimes = df.index\n",
    "candidate_datetimes"
   ]
  },
  {
   "cell_type": "code",
   "execution_count": 9,
   "metadata": {},
   "outputs": [
    {
     "name": "stdout",
     "output_type": "stream",
     "text": [
      "2010-01-01 14:00:00\n",
      "DatetimeIndex(['2010-01-01 13:45:00', '2010-01-01 13:30:00'], dtype='datetime64[ns]', freq='-15T')\n"
     ]
    }
   ],
   "source": [
    "nb_images_for_training = 3\n",
    "timedeltas = pd.timedelta_range(start='-15 min', periods=(nb_images_for_training-1), freq='-15 min')\n",
    "print(candidate_datetimes[2])\n",
    "print(candidate_datetimes[2] + timedeltas)"
   ]
  },
  {
   "cell_type": "code",
   "execution_count": 10,
   "metadata": {},
   "outputs": [
    {
     "data": {
      "text/plain": [
       "True"
      ]
     },
     "execution_count": 10,
     "metadata": {},
     "output_type": "execute_result"
    }
   ],
   "source": [
    "all(elem in candidate_datetimes for elem in (candidate_datetimes[2] + timedeltas))"
   ]
  },
  {
   "cell_type": "code",
   "execution_count": 11,
   "metadata": {},
   "outputs": [],
   "source": [
    "retained_datetimes = []\n",
    "for candidate_datetime in candidate_datetimes:\n",
    "    if all(elem in candidate_datetimes for elem in (candidate_datetime + timedeltas)):\n",
    "        retained_datetimes += [candidate_datetime]"
   ]
  },
  {
   "cell_type": "code",
   "execution_count": 12,
   "metadata": {},
   "outputs": [
    {
     "name": "stdout",
     "output_type": "stream",
     "text": [
      "106385\n",
      "101982\n"
     ]
    }
   ],
   "source": [
    "print(len(candidate_datetimes))\n",
    "print(len(retained_datetimes))"
   ]
  },
  {
   "cell_type": "code",
   "execution_count": 20,
   "metadata": {},
   "outputs": [],
   "source": [
    "# retained_datetimes[:10]"
   ]
  },
  {
   "cell_type": "code",
   "execution_count": 65,
   "metadata": {},
   "outputs": [],
   "source": [
    "# TODO: Check if images for the specified datetimes exist on disk\n",
    "# for datetime in retained_datetimes:\n",
    "\n",
    "# For each retained datetime Lookup in the dataframe which file to check.\n",
    "target_datetime = df.loc[retained_datetimes[0],[\"hdf5_8bit_path\",\"hdf5_8bit_offset\"]]"
   ]
  },
  {
   "cell_type": "code",
   "execution_count": 66,
   "metadata": {},
   "outputs": [
    {
     "name": "stdout",
     "output_type": "stream",
     "text": [
      "data/hdf5v7_8bit_Jan_2015/2010.01.01.0800.h5\n",
      "../data/hdf5v7_8bit_Jan_2015/2015.01.01.0800.h5\n"
     ]
    }
   ],
   "source": [
    "hdf5_path = target_datetime[\"hdf5_8bit_path\"]\n",
    "hdf5_offset = target_datetime[\"hdf5_8bit_offset\"]\n",
    "\n",
    "# Temporary local implementation; should use server path; uses Jan 2010\n",
    "local_path = \"data/hdf5v7_8bit_Jan_2015/\"\n",
    "hdf5_path = local_path + hdf5_path.split(\"/\")[-1]\n",
    "print(hdf5_path)\n",
    "# Temporary local implementation for df lookup; uses Jan 2015\n",
    "hdf5_path = \"../data/hdf5v7_8bit_Jan_2015/2015.01.01.0800.h5\"\n",
    "print(hdf5_path)"
   ]
  },
  {
   "cell_type": "code",
   "execution_count": 60,
   "metadata": {},
   "outputs": [
    {
     "data": {
      "text/plain": [
       "'/home/alex/Solar-irradiance-Team08-IFT6759/Notebooks'"
      ]
     },
     "execution_count": 60,
     "metadata": {},
     "output_type": "execute_result"
    }
   ],
   "source": [
    "os.getcwd()"
   ]
  },
  {
   "cell_type": "code",
   "execution_count": 62,
   "metadata": {},
   "outputs": [],
   "source": [
    "def check_data_ok(h5_data, hdf5_offset):\n",
    "    for channel in [\"ch1\", \"ch2\", \"ch3\", \"ch4\", \"ch6\"]:\n",
    "        dataset_lut_name = channel + \"_LUT\"\n",
    "        if dataset_lut_name in h5_data and h5_data[dataset_lut_name][hdf5_offset] == -1:\n",
    "            return False # Fail\n",
    "    return True # Pass"
   ]
  },
  {
   "cell_type": "code",
   "execution_count": 64,
   "metadata": {},
   "outputs": [],
   "source": [
    "import h5py\n",
    "# Check if the file and offset exist on disk.\n",
    "\n",
    "if os.path.isfile(hdf5_path):\n",
    "    with h5py.File(hdf5_path, \"r\") as h5_data:\n",
    "        data_ok = check_data_ok(h5_data, hdf5_offset)\n",
    "        if data_ok:\n",
    "            pass # write true in pandas DF"
   ]
  },
  {
   "cell_type": "code",
   "execution_count": null,
   "metadata": {},
   "outputs": [],
   "source": []
  }
 ],
 "metadata": {
  "kernelspec": {
   "display_name": "Python 3",
   "language": "python",
   "name": "python3"
  },
  "language_info": {
   "codemirror_mode": {
    "name": "ipython",
    "version": 3
   },
   "file_extension": ".py",
   "mimetype": "text/x-python",
   "name": "python",
   "nbconvert_exporter": "python",
   "pygments_lexer": "ipython3",
   "version": "3.7.4"
  }
 },
 "nbformat": 4,
 "nbformat_minor": 4
}
