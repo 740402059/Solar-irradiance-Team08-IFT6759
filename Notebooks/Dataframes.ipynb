{
 "cells": [
  {
   "cell_type": "code",
   "execution_count": 1,
   "metadata": {},
   "outputs": [],
   "source": [
    "import pandas as pd\n",
    "import numpy as np\n",
    "import json\n",
    "import datetime"
   ]
  },
  {
   "cell_type": "code",
   "execution_count": 2,
   "metadata": {},
   "outputs": [
    {
     "data": {
      "text/plain": [
       "'/home/alex/Solar-irradiance-Team08-IFT6759/Notebooks'"
      ]
     },
     "execution_count": 2,
     "metadata": {},
     "output_type": "execute_result"
    }
   ],
   "source": [
    "import os\n",
    "os.getcwd()"
   ]
  },
  {
   "cell_type": "code",
   "execution_count": 3,
   "metadata": {},
   "outputs": [],
   "source": [
    "admin_config_path = \"../train_cfg.json\"\n",
    "with open(admin_config_path, \"r\") as fd:\n",
    "    admin_config = json.load(fd)"
   ]
  },
  {
   "cell_type": "code",
   "execution_count": 4,
   "metadata": {},
   "outputs": [],
   "source": [
    "dataframe_path = admin_config['dataframe_path']\n",
    "df = pd.read_pickle('../' + dataframe_path)"
   ]
  },
  {
   "cell_type": "code",
   "execution_count": 15,
   "metadata": {},
   "outputs": [
    {
     "data": {
      "text/html": [
       "<div>\n",
       "<style scoped>\n",
       "    .dataframe tbody tr th:only-of-type {\n",
       "        vertical-align: middle;\n",
       "    }\n",
       "\n",
       "    .dataframe tbody tr th {\n",
       "        vertical-align: top;\n",
       "    }\n",
       "\n",
       "    .dataframe thead th {\n",
       "        text-align: right;\n",
       "    }\n",
       "</style>\n",
       "<table border=\"1\" class=\"dataframe\">\n",
       "  <thead>\n",
       "    <tr style=\"text-align: right;\">\n",
       "      <th></th>\n",
       "      <th>ncdf_path</th>\n",
       "      <th>hdf5_8bit_path</th>\n",
       "      <th>hdf5_8bit_offset</th>\n",
       "      <th>hdf5_16bit_path</th>\n",
       "      <th>hdf5_16bit_offset</th>\n",
       "      <th>BND_DAYTIME</th>\n",
       "      <th>BND_CLEARSKY_GHI</th>\n",
       "      <th>BND_CLOUDINESS</th>\n",
       "      <th>BND_GHI</th>\n",
       "      <th>TBL_DAYTIME</th>\n",
       "      <th>...</th>\n",
       "      <th>GWN_CLOUDINESS</th>\n",
       "      <th>GWN_GHI</th>\n",
       "      <th>PSU_DAYTIME</th>\n",
       "      <th>PSU_CLEARSKY_GHI</th>\n",
       "      <th>PSU_CLOUDINESS</th>\n",
       "      <th>PSU_GHI</th>\n",
       "      <th>SXF_DAYTIME</th>\n",
       "      <th>SXF_CLEARSKY_GHI</th>\n",
       "      <th>SXF_CLOUDINESS</th>\n",
       "      <th>SXF_GHI</th>\n",
       "    </tr>\n",
       "    <tr>\n",
       "      <th>iso-datetime</th>\n",
       "      <th></th>\n",
       "      <th></th>\n",
       "      <th></th>\n",
       "      <th></th>\n",
       "      <th></th>\n",
       "      <th></th>\n",
       "      <th></th>\n",
       "      <th></th>\n",
       "      <th></th>\n",
       "      <th></th>\n",
       "      <th></th>\n",
       "      <th></th>\n",
       "      <th></th>\n",
       "      <th></th>\n",
       "      <th></th>\n",
       "      <th></th>\n",
       "      <th></th>\n",
       "      <th></th>\n",
       "      <th></th>\n",
       "      <th></th>\n",
       "      <th></th>\n",
       "    </tr>\n",
       "  </thead>\n",
       "  <tbody>\n",
       "    <tr>\n",
       "      <td>2010-01-01 00:00:00</td>\n",
       "      <td>NaN</td>\n",
       "      <td>NaN</td>\n",
       "      <td>NaN</td>\n",
       "      <td>NaN</td>\n",
       "      <td>NaN</td>\n",
       "      <td>0.0</td>\n",
       "      <td>0.0</td>\n",
       "      <td>night</td>\n",
       "      <td>-4.1</td>\n",
       "      <td>0.0</td>\n",
       "      <td>...</td>\n",
       "      <td>night</td>\n",
       "      <td>-7.500000</td>\n",
       "      <td>0.0</td>\n",
       "      <td>0.0</td>\n",
       "      <td>night</td>\n",
       "      <td>-1.500000</td>\n",
       "      <td>0.0</td>\n",
       "      <td>0.0</td>\n",
       "      <td>night</td>\n",
       "      <td>-3.800000</td>\n",
       "    </tr>\n",
       "    <tr>\n",
       "      <td>2010-01-01 00:15:00</td>\n",
       "      <td>NaN</td>\n",
       "      <td>NaN</td>\n",
       "      <td>NaN</td>\n",
       "      <td>NaN</td>\n",
       "      <td>NaN</td>\n",
       "      <td>0.0</td>\n",
       "      <td>0.0</td>\n",
       "      <td>night</td>\n",
       "      <td>-4.1</td>\n",
       "      <td>0.0</td>\n",
       "      <td>...</td>\n",
       "      <td>night</td>\n",
       "      <td>-7.493333</td>\n",
       "      <td>0.0</td>\n",
       "      <td>0.0</td>\n",
       "      <td>night</td>\n",
       "      <td>-1.446667</td>\n",
       "      <td>0.0</td>\n",
       "      <td>0.0</td>\n",
       "      <td>night</td>\n",
       "      <td>-3.893333</td>\n",
       "    </tr>\n",
       "    <tr>\n",
       "      <td>2010-01-01 00:30:00</td>\n",
       "      <td>NaN</td>\n",
       "      <td>NaN</td>\n",
       "      <td>NaN</td>\n",
       "      <td>NaN</td>\n",
       "      <td>NaN</td>\n",
       "      <td>0.0</td>\n",
       "      <td>0.0</td>\n",
       "      <td>night</td>\n",
       "      <td>-4.1</td>\n",
       "      <td>0.0</td>\n",
       "      <td>...</td>\n",
       "      <td>night</td>\n",
       "      <td>-7.420000</td>\n",
       "      <td>0.0</td>\n",
       "      <td>0.0</td>\n",
       "      <td>night</td>\n",
       "      <td>-1.766667</td>\n",
       "      <td>0.0</td>\n",
       "      <td>0.0</td>\n",
       "      <td>night</td>\n",
       "      <td>-4.166667</td>\n",
       "    </tr>\n",
       "    <tr>\n",
       "      <td>2010-01-01 00:45:00</td>\n",
       "      <td>NaN</td>\n",
       "      <td>NaN</td>\n",
       "      <td>NaN</td>\n",
       "      <td>NaN</td>\n",
       "      <td>NaN</td>\n",
       "      <td>0.0</td>\n",
       "      <td>0.0</td>\n",
       "      <td>night</td>\n",
       "      <td>-4.1</td>\n",
       "      <td>0.0</td>\n",
       "      <td>...</td>\n",
       "      <td>night</td>\n",
       "      <td>-7.533333</td>\n",
       "      <td>0.0</td>\n",
       "      <td>0.0</td>\n",
       "      <td>night</td>\n",
       "      <td>-2.033333</td>\n",
       "      <td>0.0</td>\n",
       "      <td>0.0</td>\n",
       "      <td>night</td>\n",
       "      <td>-4.040000</td>\n",
       "    </tr>\n",
       "    <tr>\n",
       "      <td>2010-01-01 01:00:00</td>\n",
       "      <td>NaN</td>\n",
       "      <td>NaN</td>\n",
       "      <td>NaN</td>\n",
       "      <td>NaN</td>\n",
       "      <td>NaN</td>\n",
       "      <td>0.0</td>\n",
       "      <td>0.0</td>\n",
       "      <td>night</td>\n",
       "      <td>-4.1</td>\n",
       "      <td>0.0</td>\n",
       "      <td>...</td>\n",
       "      <td>night</td>\n",
       "      <td>-7.586667</td>\n",
       "      <td>0.0</td>\n",
       "      <td>0.0</td>\n",
       "      <td>night</td>\n",
       "      <td>-2.006667</td>\n",
       "      <td>0.0</td>\n",
       "      <td>0.0</td>\n",
       "      <td>night</td>\n",
       "      <td>-4.133333</td>\n",
       "    </tr>\n",
       "  </tbody>\n",
       "</table>\n",
       "<p>5 rows × 33 columns</p>\n",
       "</div>"
      ],
      "text/plain": [
       "                    ncdf_path hdf5_8bit_path  hdf5_8bit_offset  \\\n",
       "iso-datetime                                                     \n",
       "2010-01-01 00:00:00       NaN            NaN               NaN   \n",
       "2010-01-01 00:15:00       NaN            NaN               NaN   \n",
       "2010-01-01 00:30:00       NaN            NaN               NaN   \n",
       "2010-01-01 00:45:00       NaN            NaN               NaN   \n",
       "2010-01-01 01:00:00       NaN            NaN               NaN   \n",
       "\n",
       "                    hdf5_16bit_path  hdf5_16bit_offset  BND_DAYTIME  \\\n",
       "iso-datetime                                                          \n",
       "2010-01-01 00:00:00             NaN                NaN          0.0   \n",
       "2010-01-01 00:15:00             NaN                NaN          0.0   \n",
       "2010-01-01 00:30:00             NaN                NaN          0.0   \n",
       "2010-01-01 00:45:00             NaN                NaN          0.0   \n",
       "2010-01-01 01:00:00             NaN                NaN          0.0   \n",
       "\n",
       "                     BND_CLEARSKY_GHI BND_CLOUDINESS  BND_GHI  TBL_DAYTIME  \\\n",
       "iso-datetime                                                                 \n",
       "2010-01-01 00:00:00               0.0          night     -4.1          0.0   \n",
       "2010-01-01 00:15:00               0.0          night     -4.1          0.0   \n",
       "2010-01-01 00:30:00               0.0          night     -4.1          0.0   \n",
       "2010-01-01 00:45:00               0.0          night     -4.1          0.0   \n",
       "2010-01-01 01:00:00               0.0          night     -4.1          0.0   \n",
       "\n",
       "                     ...  GWN_CLOUDINESS   GWN_GHI  PSU_DAYTIME  \\\n",
       "iso-datetime         ...                                          \n",
       "2010-01-01 00:00:00  ...           night -7.500000          0.0   \n",
       "2010-01-01 00:15:00  ...           night -7.493333          0.0   \n",
       "2010-01-01 00:30:00  ...           night -7.420000          0.0   \n",
       "2010-01-01 00:45:00  ...           night -7.533333          0.0   \n",
       "2010-01-01 01:00:00  ...           night -7.586667          0.0   \n",
       "\n",
       "                     PSU_CLEARSKY_GHI  PSU_CLOUDINESS   PSU_GHI  SXF_DAYTIME  \\\n",
       "iso-datetime                                                                   \n",
       "2010-01-01 00:00:00               0.0           night -1.500000          0.0   \n",
       "2010-01-01 00:15:00               0.0           night -1.446667          0.0   \n",
       "2010-01-01 00:30:00               0.0           night -1.766667          0.0   \n",
       "2010-01-01 00:45:00               0.0           night -2.033333          0.0   \n",
       "2010-01-01 01:00:00               0.0           night -2.006667          0.0   \n",
       "\n",
       "                     SXF_CLEARSKY_GHI  SXF_CLOUDINESS   SXF_GHI  \n",
       "iso-datetime                                                     \n",
       "2010-01-01 00:00:00               0.0           night -3.800000  \n",
       "2010-01-01 00:15:00               0.0           night -3.893333  \n",
       "2010-01-01 00:30:00               0.0           night -4.166667  \n",
       "2010-01-01 00:45:00               0.0           night -4.040000  \n",
       "2010-01-01 01:00:00               0.0           night -4.133333  \n",
       "\n",
       "[5 rows x 33 columns]"
      ]
     },
     "execution_count": 15,
     "metadata": {},
     "output_type": "execute_result"
    }
   ],
   "source": [
    "df.replace(to_replace=\"nan\", value=np.NaN, inplace=True)\n",
    "df.head()"
   ]
  },
  {
   "cell_type": "code",
   "execution_count": 16,
   "metadata": {},
   "outputs": [],
   "source": [
    "station_id = \"BND\"\n",
    "image_type = \"hdf5_8bit\"\n",
    "daytime = df[station_id + \"_DAYTIME\"] == 1.0\n",
    "valid_ghi = ~df[station_id + \"_GHI\"].isna()\n",
    "valid_datetime = daytime & valid_ghi\n",
    "df = df.loc[valid_datetime]"
   ]
  },
  {
   "cell_type": "code",
   "execution_count": 19,
   "metadata": {},
   "outputs": [],
   "source": [
    "# df.isna().sum()"
   ]
  },
  {
   "cell_type": "code",
   "execution_count": 23,
   "metadata": {},
   "outputs": [
    {
     "data": {
      "text/plain": [
       "DatetimeIndex(['2010-01-01 13:30:00', '2010-01-01 13:45:00',\n",
       "               '2010-01-01 14:00:00', '2010-01-01 14:15:00',\n",
       "               '2010-01-01 14:30:00', '2010-01-01 14:45:00',\n",
       "               '2010-01-01 15:00:00', '2010-01-01 15:15:00',\n",
       "               '2010-01-01 15:30:00', '2010-01-01 15:45:00',\n",
       "               ...\n",
       "               '2015-12-31 20:15:00', '2015-12-31 20:30:00',\n",
       "               '2015-12-31 20:45:00', '2015-12-31 21:00:00',\n",
       "               '2015-12-31 21:15:00', '2015-12-31 21:30:00',\n",
       "               '2015-12-31 21:45:00', '2015-12-31 22:00:00',\n",
       "               '2015-12-31 22:15:00', '2015-12-31 22:30:00'],\n",
       "              dtype='datetime64[ns]', name='iso-datetime', length=106385, freq=None)"
      ]
     },
     "execution_count": 23,
     "metadata": {},
     "output_type": "execute_result"
    }
   ],
   "source": [
    "candidate_datetimes = df.index\n",
    "candidate_datetimes"
   ]
  },
  {
   "cell_type": "code",
   "execution_count": 57,
   "metadata": {},
   "outputs": [
    {
     "name": "stdout",
     "output_type": "stream",
     "text": [
      "2010-01-01 14:00:00\n",
      "DatetimeIndex(['2010-01-01 13:45:00', '2010-01-01 13:30:00'], dtype='datetime64[ns]', freq='-15T')\n"
     ]
    }
   ],
   "source": [
    "nb_images_for_training = 3\n",
    "timedeltas = pd.timedelta_range(start='-15 min', periods=(nb_images_for_training-1), freq='-15 min')\n",
    "print(candidate_datetimes[2])\n",
    "print(candidate_datetimes[2] + timedeltas)"
   ]
  },
  {
   "cell_type": "code",
   "execution_count": 43,
   "metadata": {},
   "outputs": [
    {
     "data": {
      "text/plain": [
       "True"
      ]
     },
     "execution_count": 43,
     "metadata": {},
     "output_type": "execute_result"
    }
   ],
   "source": [
    "all(elem in candidate_datetimes for elem in (candidate_datetimes[2] + timedeltas))"
   ]
  },
  {
   "cell_type": "code",
   "execution_count": 44,
   "metadata": {},
   "outputs": [],
   "source": [
    "retained_datetimes = []\n",
    "for candidate_datetime in candidate_datetimes:\n",
    "    if all(elem in candidate_datetimes for elem in (candidate_datetime + timedeltas)):\n",
    "        retained_datetimes += [candidate_datetime]"
   ]
  },
  {
   "cell_type": "code",
   "execution_count": 45,
   "metadata": {},
   "outputs": [
    {
     "name": "stdout",
     "output_type": "stream",
     "text": [
      "106385\n",
      "101982\n"
     ]
    }
   ],
   "source": [
    "print(len(candidate_datetimes))\n",
    "print(len(retained_datetimes))"
   ]
  },
  {
   "cell_type": "code",
   "execution_count": 59,
   "metadata": {},
   "outputs": [],
   "source": [
    "# retained_datetimes[:10]"
   ]
  },
  {
   "cell_type": "code",
   "execution_count": null,
   "metadata": {},
   "outputs": [],
   "source": [
    "# TODO: Check if images for the specified datetimes exist on disk"
   ]
  },
  {
   "cell_type": "code",
   "execution_count": 8,
   "metadata": {},
   "outputs": [
    {
     "data": {
      "text/plain": [
       "Index(['ncdf_path', 'hdf5_8bit_path', 'hdf5_8bit_offset', 'hdf5_16bit_path',\n",
       "       'hdf5_16bit_offset', 'BND_DAYTIME', 'BND_CLEARSKY_GHI',\n",
       "       'BND_CLOUDINESS', 'BND_GHI', 'TBL_DAYTIME', 'TBL_CLEARSKY_GHI',\n",
       "       'TBL_CLOUDINESS', 'TBL_GHI', 'DRA_DAYTIME', 'DRA_CLEARSKY_GHI',\n",
       "       'DRA_CLOUDINESS', 'DRA_GHI', 'FPK_DAYTIME', 'FPK_CLEARSKY_GHI',\n",
       "       'FPK_CLOUDINESS', 'FPK_GHI', 'GWN_DAYTIME', 'GWN_CLEARSKY_GHI',\n",
       "       'GWN_CLOUDINESS', 'GWN_GHI', 'PSU_DAYTIME', 'PSU_CLEARSKY_GHI',\n",
       "       'PSU_CLOUDINESS', 'PSU_GHI', 'SXF_DAYTIME', 'SXF_CLEARSKY_GHI',\n",
       "       'SXF_CLOUDINESS', 'SXF_GHI'],\n",
       "      dtype='object')"
      ]
     },
     "execution_count": 8,
     "metadata": {},
     "output_type": "execute_result"
    }
   ],
   "source": [
    "dataframe.columns"
   ]
  },
  {
   "cell_type": "code",
   "execution_count": 9,
   "metadata": {},
   "outputs": [],
   "source": [
    "target_datetimes = [datetime.datetime.fromisoformat(d) for d in admin_config[\"target_datetimes\"]]"
   ]
  },
  {
   "cell_type": "code",
   "execution_count": 13,
   "metadata": {},
   "outputs": [],
   "source": [
    "# admin_config"
   ]
  },
  {
   "cell_type": "code",
   "execution_count": 14,
   "metadata": {},
   "outputs": [],
   "source": [
    "# station = [*stations][0]\n",
    "station = 'DRA'\n",
    "ghis = []\n",
    "cs_ghis = []\n",
    "for dt in target_datetimes[:]:\n",
    "    dt += datetime.timedelta(minutes=15)\n",
    "    cs_ghi = dataframe.lookup([dt],[station + '_CLEARSKY_GHI'])[0]\n",
    "    cs_ghis += [cs_ghi]\n",
    "    ghi = dataframe.lookup([dt],[station + '_GHI'])[0]\n",
    "    ghis += [ghi]\n",
    "    assert ~np.isnan(ghi)\n",
    "    assert ~np.isnan(cs_ghi)"
   ]
  },
  {
   "cell_type": "code",
   "execution_count": 15,
   "metadata": {},
   "outputs": [
    {
     "data": {
      "text/plain": [
       "38"
      ]
     },
     "execution_count": 15,
     "metadata": {},
     "output_type": "execute_result"
    }
   ],
   "source": [
    "len(target_datetimes)"
   ]
  },
  {
   "cell_type": "code",
   "execution_count": 16,
   "metadata": {},
   "outputs": [
    {
     "data": {
      "text/plain": [
       "array([[-3.90666667e+00,  0.00000000e+00],\n",
       "       [ 5.46986667e+02,  5.27979586e+02],\n",
       "       [-4.04000000e+00,  0.00000000e+00],\n",
       "       [ 5.54073333e+02,  5.37996306e+02],\n",
       "       [-3.28666667e+00,  0.00000000e+00],\n",
       "       [ 5.35600000e+02,  5.34871830e+02],\n",
       "       [-2.64000000e+00,  0.00000000e+00],\n",
       "       [ 1.94200000e+02,  4.98394927e+02],\n",
       "       [ 1.11333333e+00,  1.21550426e-01],\n",
       "       [ 4.25626667e+02,  4.56285026e+02],\n",
       "       [ 1.53780000e+02,  1.71200203e+02],\n",
       "       [ 3.45120000e+02,  3.28578942e+02],\n",
       "       [ 2.36380000e+02,  2.04840773e+02],\n",
       "       [ 3.59753333e+02,  3.80206857e+02],\n",
       "       [ 1.87233333e+02,  1.62428131e+02],\n",
       "       [ 4.05460000e+02,  4.15381167e+02],\n",
       "       [ 4.49133333e+01,  1.19600476e+02],\n",
       "       [ 4.23920000e+02,  4.47654850e+02],\n",
       "       [ 9.50600000e+01,  7.78365262e+01],\n",
       "       [ 3.21466667e+01,  5.00417728e+02],\n",
       "       [ 2.46400000e+01,  1.02242402e+01],\n",
       "       [ 5.18820000e+02,  5.22727054e+02],\n",
       "       [-4.13333333e-01,  0.00000000e+00],\n",
       "       [ 5.48933333e+02,  5.53786893e+02],\n",
       "       [-4.86000000e+00,  0.00000000e+00],\n",
       "       [ 5.71560000e+02,  5.65109493e+02],\n",
       "       [-4.56666667e+00,  0.00000000e+00],\n",
       "       [ 5.88146667e+02,  5.72706130e+02],\n",
       "       [-3.96000000e+00,  0.00000000e+00],\n",
       "       [ 5.87133333e+02,  5.76530918e+02],\n",
       "       [-5.51333333e+00,  0.00000000e+00],\n",
       "       [ 4.97146667e+02,  5.76555067e+02],\n",
       "       [-3.26666667e+00,  0.00000000e+00],\n",
       "       [ 4.07566667e+02,  5.72767068e+02],\n",
       "       [-2.60000000e+00,  0.00000000e+00],\n",
       "       [ 5.79813333e+02,  5.65172963e+02],\n",
       "       [-2.76000000e+00,  0.00000000e+00],\n",
       "       [ 2.10546667e+02,  5.11064526e+02]])"
      ]
     },
     "execution_count": 16,
     "metadata": {},
     "output_type": "execute_result"
    }
   ],
   "source": [
    "np.array([ghis,cs_ghis]).T"
   ]
  },
  {
   "cell_type": "code",
   "execution_count": null,
   "metadata": {},
   "outputs": [],
   "source": []
  }
 ],
 "metadata": {
  "kernelspec": {
   "display_name": "Python 3",
   "language": "python",
   "name": "python3"
  },
  "language_info": {
   "codemirror_mode": {
    "name": "ipython",
    "version": 3
   },
   "file_extension": ".py",
   "mimetype": "text/x-python",
   "name": "python",
   "nbconvert_exporter": "python",
   "pygments_lexer": "ipython3",
   "version": "3.7.4"
  }
 },
 "nbformat": 4,
 "nbformat_minor": 4
}
