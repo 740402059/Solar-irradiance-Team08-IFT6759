{
 "cells": [
  {
   "cell_type": "code",
   "execution_count": 1,
   "metadata": {},
   "outputs": [],
   "source": [
    "import pandas as pd\n",
    "import numpy as np\n",
    "import json\n",
    "import datetime"
   ]
  },
  {
   "cell_type": "code",
   "execution_count": 2,
   "metadata": {},
   "outputs": [
    {
     "data": {
      "text/plain": [
       "'/home/alex/Solar-irradiance-Team08-IFT6759/Notebooks'"
      ]
     },
     "execution_count": 2,
     "metadata": {},
     "output_type": "execute_result"
    }
   ],
   "source": [
    "import os\n",
    "os.getcwd()"
   ]
  },
  {
   "cell_type": "code",
   "execution_count": 3,
   "metadata": {},
   "outputs": [],
   "source": [
    "admin_config_path = \"../train_cfg.json\"\n",
    "with open(admin_config_path, \"r\") as fd:\n",
    "    admin_config = json.load(fd)"
   ]
  },
  {
   "cell_type": "code",
   "execution_count": 4,
   "metadata": {},
   "outputs": [],
   "source": [
    "dataframe_path = admin_config['dataframe_path']\n",
    "df = pd.read_pickle(dataframe_path)"
   ]
  },
  {
   "cell_type": "code",
   "execution_count": 5,
   "metadata": {},
   "outputs": [
    {
     "data": {
      "text/html": [
       "<div>\n",
       "<style scoped>\n",
       "    .dataframe tbody tr th:only-of-type {\n",
       "        vertical-align: middle;\n",
       "    }\n",
       "\n",
       "    .dataframe tbody tr th {\n",
       "        vertical-align: top;\n",
       "    }\n",
       "\n",
       "    .dataframe thead th {\n",
       "        text-align: right;\n",
       "    }\n",
       "</style>\n",
       "<table border=\"1\" class=\"dataframe\">\n",
       "  <thead>\n",
       "    <tr style=\"text-align: right;\">\n",
       "      <th></th>\n",
       "      <th>ncdf_path</th>\n",
       "      <th>hdf5_8bit_path</th>\n",
       "      <th>hdf5_8bit_offset</th>\n",
       "      <th>hdf5_16bit_path</th>\n",
       "      <th>hdf5_16bit_offset</th>\n",
       "      <th>BND_DAYTIME</th>\n",
       "      <th>BND_CLEARSKY_GHI</th>\n",
       "      <th>BND_CLOUDINESS</th>\n",
       "      <th>BND_GHI</th>\n",
       "      <th>TBL_DAYTIME</th>\n",
       "      <th>...</th>\n",
       "      <th>GWN_CLOUDINESS</th>\n",
       "      <th>GWN_GHI</th>\n",
       "      <th>PSU_DAYTIME</th>\n",
       "      <th>PSU_CLEARSKY_GHI</th>\n",
       "      <th>PSU_CLOUDINESS</th>\n",
       "      <th>PSU_GHI</th>\n",
       "      <th>SXF_DAYTIME</th>\n",
       "      <th>SXF_CLEARSKY_GHI</th>\n",
       "      <th>SXF_CLOUDINESS</th>\n",
       "      <th>SXF_GHI</th>\n",
       "    </tr>\n",
       "    <tr>\n",
       "      <th>iso-datetime</th>\n",
       "      <th></th>\n",
       "      <th></th>\n",
       "      <th></th>\n",
       "      <th></th>\n",
       "      <th></th>\n",
       "      <th></th>\n",
       "      <th></th>\n",
       "      <th></th>\n",
       "      <th></th>\n",
       "      <th></th>\n",
       "      <th></th>\n",
       "      <th></th>\n",
       "      <th></th>\n",
       "      <th></th>\n",
       "      <th></th>\n",
       "      <th></th>\n",
       "      <th></th>\n",
       "      <th></th>\n",
       "      <th></th>\n",
       "      <th></th>\n",
       "      <th></th>\n",
       "    </tr>\n",
       "  </thead>\n",
       "  <tbody>\n",
       "    <tr>\n",
       "      <td>2010-01-01 00:00:00</td>\n",
       "      <td>NaN</td>\n",
       "      <td>NaN</td>\n",
       "      <td>NaN</td>\n",
       "      <td>NaN</td>\n",
       "      <td>NaN</td>\n",
       "      <td>0.0</td>\n",
       "      <td>0.0</td>\n",
       "      <td>night</td>\n",
       "      <td>-4.1</td>\n",
       "      <td>0.0</td>\n",
       "      <td>...</td>\n",
       "      <td>night</td>\n",
       "      <td>-7.500000</td>\n",
       "      <td>0.0</td>\n",
       "      <td>0.0</td>\n",
       "      <td>night</td>\n",
       "      <td>-1.500000</td>\n",
       "      <td>0.0</td>\n",
       "      <td>0.0</td>\n",
       "      <td>night</td>\n",
       "      <td>-3.800000</td>\n",
       "    </tr>\n",
       "    <tr>\n",
       "      <td>2010-01-01 00:15:00</td>\n",
       "      <td>NaN</td>\n",
       "      <td>NaN</td>\n",
       "      <td>NaN</td>\n",
       "      <td>NaN</td>\n",
       "      <td>NaN</td>\n",
       "      <td>0.0</td>\n",
       "      <td>0.0</td>\n",
       "      <td>night</td>\n",
       "      <td>-4.1</td>\n",
       "      <td>0.0</td>\n",
       "      <td>...</td>\n",
       "      <td>night</td>\n",
       "      <td>-7.493333</td>\n",
       "      <td>0.0</td>\n",
       "      <td>0.0</td>\n",
       "      <td>night</td>\n",
       "      <td>-1.446667</td>\n",
       "      <td>0.0</td>\n",
       "      <td>0.0</td>\n",
       "      <td>night</td>\n",
       "      <td>-3.893333</td>\n",
       "    </tr>\n",
       "    <tr>\n",
       "      <td>2010-01-01 00:30:00</td>\n",
       "      <td>NaN</td>\n",
       "      <td>NaN</td>\n",
       "      <td>NaN</td>\n",
       "      <td>NaN</td>\n",
       "      <td>NaN</td>\n",
       "      <td>0.0</td>\n",
       "      <td>0.0</td>\n",
       "      <td>night</td>\n",
       "      <td>-4.1</td>\n",
       "      <td>0.0</td>\n",
       "      <td>...</td>\n",
       "      <td>night</td>\n",
       "      <td>-7.420000</td>\n",
       "      <td>0.0</td>\n",
       "      <td>0.0</td>\n",
       "      <td>night</td>\n",
       "      <td>-1.766667</td>\n",
       "      <td>0.0</td>\n",
       "      <td>0.0</td>\n",
       "      <td>night</td>\n",
       "      <td>-4.166667</td>\n",
       "    </tr>\n",
       "    <tr>\n",
       "      <td>2010-01-01 00:45:00</td>\n",
       "      <td>NaN</td>\n",
       "      <td>NaN</td>\n",
       "      <td>NaN</td>\n",
       "      <td>NaN</td>\n",
       "      <td>NaN</td>\n",
       "      <td>0.0</td>\n",
       "      <td>0.0</td>\n",
       "      <td>night</td>\n",
       "      <td>-4.1</td>\n",
       "      <td>0.0</td>\n",
       "      <td>...</td>\n",
       "      <td>night</td>\n",
       "      <td>-7.533333</td>\n",
       "      <td>0.0</td>\n",
       "      <td>0.0</td>\n",
       "      <td>night</td>\n",
       "      <td>-2.033333</td>\n",
       "      <td>0.0</td>\n",
       "      <td>0.0</td>\n",
       "      <td>night</td>\n",
       "      <td>-4.040000</td>\n",
       "    </tr>\n",
       "    <tr>\n",
       "      <td>2010-01-01 01:00:00</td>\n",
       "      <td>NaN</td>\n",
       "      <td>NaN</td>\n",
       "      <td>NaN</td>\n",
       "      <td>NaN</td>\n",
       "      <td>NaN</td>\n",
       "      <td>0.0</td>\n",
       "      <td>0.0</td>\n",
       "      <td>night</td>\n",
       "      <td>-4.1</td>\n",
       "      <td>0.0</td>\n",
       "      <td>...</td>\n",
       "      <td>night</td>\n",
       "      <td>-7.586667</td>\n",
       "      <td>0.0</td>\n",
       "      <td>0.0</td>\n",
       "      <td>night</td>\n",
       "      <td>-2.006667</td>\n",
       "      <td>0.0</td>\n",
       "      <td>0.0</td>\n",
       "      <td>night</td>\n",
       "      <td>-4.133333</td>\n",
       "    </tr>\n",
       "  </tbody>\n",
       "</table>\n",
       "<p>5 rows × 33 columns</p>\n",
       "</div>"
      ],
      "text/plain": [
       "                    ncdf_path hdf5_8bit_path  hdf5_8bit_offset  \\\n",
       "iso-datetime                                                     \n",
       "2010-01-01 00:00:00       NaN            NaN               NaN   \n",
       "2010-01-01 00:15:00       NaN            NaN               NaN   \n",
       "2010-01-01 00:30:00       NaN            NaN               NaN   \n",
       "2010-01-01 00:45:00       NaN            NaN               NaN   \n",
       "2010-01-01 01:00:00       NaN            NaN               NaN   \n",
       "\n",
       "                    hdf5_16bit_path  hdf5_16bit_offset  BND_DAYTIME  \\\n",
       "iso-datetime                                                          \n",
       "2010-01-01 00:00:00             NaN                NaN          0.0   \n",
       "2010-01-01 00:15:00             NaN                NaN          0.0   \n",
       "2010-01-01 00:30:00             NaN                NaN          0.0   \n",
       "2010-01-01 00:45:00             NaN                NaN          0.0   \n",
       "2010-01-01 01:00:00             NaN                NaN          0.0   \n",
       "\n",
       "                     BND_CLEARSKY_GHI BND_CLOUDINESS  BND_GHI  TBL_DAYTIME  \\\n",
       "iso-datetime                                                                 \n",
       "2010-01-01 00:00:00               0.0          night     -4.1          0.0   \n",
       "2010-01-01 00:15:00               0.0          night     -4.1          0.0   \n",
       "2010-01-01 00:30:00               0.0          night     -4.1          0.0   \n",
       "2010-01-01 00:45:00               0.0          night     -4.1          0.0   \n",
       "2010-01-01 01:00:00               0.0          night     -4.1          0.0   \n",
       "\n",
       "                     ...  GWN_CLOUDINESS   GWN_GHI  PSU_DAYTIME  \\\n",
       "iso-datetime         ...                                          \n",
       "2010-01-01 00:00:00  ...           night -7.500000          0.0   \n",
       "2010-01-01 00:15:00  ...           night -7.493333          0.0   \n",
       "2010-01-01 00:30:00  ...           night -7.420000          0.0   \n",
       "2010-01-01 00:45:00  ...           night -7.533333          0.0   \n",
       "2010-01-01 01:00:00  ...           night -7.586667          0.0   \n",
       "\n",
       "                     PSU_CLEARSKY_GHI  PSU_CLOUDINESS   PSU_GHI  SXF_DAYTIME  \\\n",
       "iso-datetime                                                                   \n",
       "2010-01-01 00:00:00               0.0           night -1.500000          0.0   \n",
       "2010-01-01 00:15:00               0.0           night -1.446667          0.0   \n",
       "2010-01-01 00:30:00               0.0           night -1.766667          0.0   \n",
       "2010-01-01 00:45:00               0.0           night -2.033333          0.0   \n",
       "2010-01-01 01:00:00               0.0           night -2.006667          0.0   \n",
       "\n",
       "                     SXF_CLEARSKY_GHI  SXF_CLOUDINESS   SXF_GHI  \n",
       "iso-datetime                                                     \n",
       "2010-01-01 00:00:00               0.0           night -3.800000  \n",
       "2010-01-01 00:15:00               0.0           night -3.893333  \n",
       "2010-01-01 00:30:00               0.0           night -4.166667  \n",
       "2010-01-01 00:45:00               0.0           night -4.040000  \n",
       "2010-01-01 01:00:00               0.0           night -4.133333  \n",
       "\n",
       "[5 rows x 33 columns]"
      ]
     },
     "execution_count": 5,
     "metadata": {},
     "output_type": "execute_result"
    }
   ],
   "source": [
    "df.replace(to_replace=\"nan\", value=np.NaN, inplace=True)\n",
    "df.head()"
   ]
  },
  {
   "cell_type": "code",
   "execution_count": 6,
   "metadata": {},
   "outputs": [],
   "source": [
    "station_id = \"BND\"\n",
    "image_type = \"hdf5_8bit\"\n",
    "daytime = df[station_id + \"_DAYTIME\"] == 1.0\n",
    "valid_ghi = ~df[station_id + \"_GHI\"].isna()\n",
    "valid_datetime = daytime & valid_ghi\n",
    "df = df.loc[valid_datetime]"
   ]
  },
  {
   "cell_type": "code",
   "execution_count": 7,
   "metadata": {},
   "outputs": [
    {
     "data": {
      "text/plain": [
       "iso-datetime\n",
       "2010-01-01 13:30:00   -3.673333\n",
       "2010-01-01 13:45:00   -3.966667\n",
       "2010-01-01 14:00:00   -3.946667\n",
       "2010-01-01 14:15:00   -2.953333\n",
       "2010-01-01 14:30:00    3.600000\n",
       "Name: TBL_GHI, dtype: float64"
      ]
     },
     "execution_count": 7,
     "metadata": {},
     "output_type": "execute_result"
    }
   ],
   "source": [
    "df[\"TBL_GHI\"].head()"
   ]
  },
  {
   "cell_type": "code",
   "execution_count": 8,
   "metadata": {},
   "outputs": [],
   "source": [
    "cs = pd.melt(df,value_vars=['TBL_CLEARSKY_GHI','BND_CLEARSKY_GHI','TBL_CLEARSKY_GHI','DRA_CLEARSKY_GHI','FPK_CLEARSKY_GHI','GWN_CLEARSKY_GHI','PSU_CLEARSKY_GHI','SXF_CLEARSKY_GHI'],value_name=\"clearsky\")\n",
    "ghi = pd.melt(df,value_vars=['TBL_GHI','BND_GHI','TBL_GHI','DRA_GHI','FPK_GHI','GWN_GHI','PSU_GHI','SXF_GHI'],value_name=\"true\")"
   ]
  },
  {
   "cell_type": "code",
   "execution_count": 9,
   "metadata": {},
   "outputs": [
    {
     "data": {
      "text/html": [
       "<div>\n",
       "<style scoped>\n",
       "    .dataframe tbody tr th:only-of-type {\n",
       "        vertical-align: middle;\n",
       "    }\n",
       "\n",
       "    .dataframe tbody tr th {\n",
       "        vertical-align: top;\n",
       "    }\n",
       "\n",
       "    .dataframe thead th {\n",
       "        text-align: right;\n",
       "    }\n",
       "</style>\n",
       "<table border=\"1\" class=\"dataframe\">\n",
       "  <thead>\n",
       "    <tr style=\"text-align: right;\">\n",
       "      <th></th>\n",
       "      <th>variable</th>\n",
       "      <th>clearsky</th>\n",
       "    </tr>\n",
       "  </thead>\n",
       "  <tbody>\n",
       "    <tr>\n",
       "      <td>0</td>\n",
       "      <td>TBL_CLEARSKY_GHI</td>\n",
       "      <td>0.000000</td>\n",
       "    </tr>\n",
       "    <tr>\n",
       "      <td>1</td>\n",
       "      <td>TBL_CLEARSKY_GHI</td>\n",
       "      <td>0.000000</td>\n",
       "    </tr>\n",
       "    <tr>\n",
       "      <td>2</td>\n",
       "      <td>TBL_CLEARSKY_GHI</td>\n",
       "      <td>0.000000</td>\n",
       "    </tr>\n",
       "    <tr>\n",
       "      <td>3</td>\n",
       "      <td>TBL_CLEARSKY_GHI</td>\n",
       "      <td>0.000000</td>\n",
       "    </tr>\n",
       "    <tr>\n",
       "      <td>4</td>\n",
       "      <td>TBL_CLEARSKY_GHI</td>\n",
       "      <td>0.642779</td>\n",
       "    </tr>\n",
       "    <tr>\n",
       "      <td>...</td>\n",
       "      <td>...</td>\n",
       "      <td>...</td>\n",
       "    </tr>\n",
       "    <tr>\n",
       "      <td>851075</td>\n",
       "      <td>SXF_CLEARSKY_GHI</td>\n",
       "      <td>145.234362</td>\n",
       "    </tr>\n",
       "    <tr>\n",
       "      <td>851076</td>\n",
       "      <td>SXF_CLEARSKY_GHI</td>\n",
       "      <td>110.951565</td>\n",
       "    </tr>\n",
       "    <tr>\n",
       "      <td>851077</td>\n",
       "      <td>SXF_CLEARSKY_GHI</td>\n",
       "      <td>76.842209</td>\n",
       "    </tr>\n",
       "    <tr>\n",
       "      <td>851078</td>\n",
       "      <td>SXF_CLEARSKY_GHI</td>\n",
       "      <td>44.828399</td>\n",
       "    </tr>\n",
       "    <tr>\n",
       "      <td>851079</td>\n",
       "      <td>SXF_CLEARSKY_GHI</td>\n",
       "      <td>18.392003</td>\n",
       "    </tr>\n",
       "  </tbody>\n",
       "</table>\n",
       "<p>851080 rows × 2 columns</p>\n",
       "</div>"
      ],
      "text/plain": [
       "                variable    clearsky\n",
       "0       TBL_CLEARSKY_GHI    0.000000\n",
       "1       TBL_CLEARSKY_GHI    0.000000\n",
       "2       TBL_CLEARSKY_GHI    0.000000\n",
       "3       TBL_CLEARSKY_GHI    0.000000\n",
       "4       TBL_CLEARSKY_GHI    0.642779\n",
       "...                  ...         ...\n",
       "851075  SXF_CLEARSKY_GHI  145.234362\n",
       "851076  SXF_CLEARSKY_GHI  110.951565\n",
       "851077  SXF_CLEARSKY_GHI   76.842209\n",
       "851078  SXF_CLEARSKY_GHI   44.828399\n",
       "851079  SXF_CLEARSKY_GHI   18.392003\n",
       "\n",
       "[851080 rows x 2 columns]"
      ]
     },
     "execution_count": 9,
     "metadata": {},
     "output_type": "execute_result"
    }
   ],
   "source": [
    "cs"
   ]
  },
  {
   "cell_type": "code",
   "execution_count": 10,
   "metadata": {},
   "outputs": [
    {
     "data": {
      "text/html": [
       "<div>\n",
       "<style scoped>\n",
       "    .dataframe tbody tr th:only-of-type {\n",
       "        vertical-align: middle;\n",
       "    }\n",
       "\n",
       "    .dataframe tbody tr th {\n",
       "        vertical-align: top;\n",
       "    }\n",
       "\n",
       "    .dataframe thead th {\n",
       "        text-align: right;\n",
       "    }\n",
       "</style>\n",
       "<table border=\"1\" class=\"dataframe\">\n",
       "  <thead>\n",
       "    <tr style=\"text-align: right;\">\n",
       "      <th></th>\n",
       "      <th>variable</th>\n",
       "      <th>true</th>\n",
       "    </tr>\n",
       "  </thead>\n",
       "  <tbody>\n",
       "    <tr>\n",
       "      <td>0</td>\n",
       "      <td>TBL_GHI</td>\n",
       "      <td>-3.673333</td>\n",
       "    </tr>\n",
       "    <tr>\n",
       "      <td>1</td>\n",
       "      <td>TBL_GHI</td>\n",
       "      <td>-3.966667</td>\n",
       "    </tr>\n",
       "    <tr>\n",
       "      <td>2</td>\n",
       "      <td>TBL_GHI</td>\n",
       "      <td>-3.946667</td>\n",
       "    </tr>\n",
       "    <tr>\n",
       "      <td>3</td>\n",
       "      <td>TBL_GHI</td>\n",
       "      <td>-2.953333</td>\n",
       "    </tr>\n",
       "    <tr>\n",
       "      <td>4</td>\n",
       "      <td>TBL_GHI</td>\n",
       "      <td>3.600000</td>\n",
       "    </tr>\n",
       "    <tr>\n",
       "      <td>...</td>\n",
       "      <td>...</td>\n",
       "      <td>...</td>\n",
       "    </tr>\n",
       "    <tr>\n",
       "      <td>851075</td>\n",
       "      <td>SXF_GHI</td>\n",
       "      <td>143.686667</td>\n",
       "    </tr>\n",
       "    <tr>\n",
       "      <td>851076</td>\n",
       "      <td>SXF_GHI</td>\n",
       "      <td>107.833333</td>\n",
       "    </tr>\n",
       "    <tr>\n",
       "      <td>851077</td>\n",
       "      <td>SXF_GHI</td>\n",
       "      <td>80.986667</td>\n",
       "    </tr>\n",
       "    <tr>\n",
       "      <td>851078</td>\n",
       "      <td>SXF_GHI</td>\n",
       "      <td>57.813333</td>\n",
       "    </tr>\n",
       "    <tr>\n",
       "      <td>851079</td>\n",
       "      <td>SXF_GHI</td>\n",
       "      <td>36.046667</td>\n",
       "    </tr>\n",
       "  </tbody>\n",
       "</table>\n",
       "<p>851080 rows × 2 columns</p>\n",
       "</div>"
      ],
      "text/plain": [
       "       variable        true\n",
       "0       TBL_GHI   -3.673333\n",
       "1       TBL_GHI   -3.966667\n",
       "2       TBL_GHI   -3.946667\n",
       "3       TBL_GHI   -2.953333\n",
       "4       TBL_GHI    3.600000\n",
       "...         ...         ...\n",
       "851075  SXF_GHI  143.686667\n",
       "851076  SXF_GHI  107.833333\n",
       "851077  SXF_GHI   80.986667\n",
       "851078  SXF_GHI   57.813333\n",
       "851079  SXF_GHI   36.046667\n",
       "\n",
       "[851080 rows x 2 columns]"
      ]
     },
     "execution_count": 10,
     "metadata": {},
     "output_type": "execute_result"
    }
   ],
   "source": [
    "ghi"
   ]
  },
  {
   "cell_type": "code",
   "execution_count": 11,
   "metadata": {},
   "outputs": [],
   "source": [
    "together = pd.concat((cs,ghi),axis=1)\n",
    "together = together[~together.true.isna()]"
   ]
  },
  {
   "cell_type": "code",
   "execution_count": 12,
   "metadata": {},
   "outputs": [],
   "source": [
    "valid_ghis = together[together.clearsky>0]"
   ]
  },
  {
   "cell_type": "code",
   "execution_count": 13,
   "metadata": {},
   "outputs": [
    {
     "data": {
      "text/plain": [
       "4           3.600000\n",
       "5          12.753333\n",
       "6          45.480000\n",
       "7          85.786667\n",
       "8         127.566667\n",
       "             ...    \n",
       "851075    143.686667\n",
       "851076    107.833333\n",
       "851077     80.986667\n",
       "851078     57.813333\n",
       "851079     36.046667\n",
       "Name: true, Length: 783898, dtype: float64"
      ]
     },
     "execution_count": 13,
     "metadata": {},
     "output_type": "execute_result"
    }
   ],
   "source": [
    "valid_ghis.clearsky\n",
    "valid_ghis.true"
   ]
  },
  {
   "cell_type": "code",
   "execution_count": 14,
   "metadata": {},
   "outputs": [
    {
     "name": "stdout",
     "output_type": "stream",
     "text": [
      "486.83626230603187\n",
      "285.45303397358606\n",
      "1045.1129017993471\n",
      "1.3916563138773755e-05\n"
     ]
    }
   ],
   "source": [
    "v = valid_ghis.clearsky.to_numpy()\n",
    "print(v.mean())\n",
    "print(v.std())\n",
    "print(v.max())\n",
    "print(v.min())"
   ]
  },
  {
   "cell_type": "code",
   "execution_count": 15,
   "metadata": {},
   "outputs": [
    {
     "name": "stdout",
     "output_type": "stream",
     "text": [
      "384.0514077393157\n",
      "293.30982182495467\n",
      "1278.5533333333487\n",
      "-24.760000000005597\n"
     ]
    }
   ],
   "source": [
    "t = valid_ghis.true.to_numpy()\n",
    "print(t.mean())\n",
    "print(t.std())\n",
    "print(t.max())\n",
    "print(t.min())"
   ]
  },
  {
   "cell_type": "code",
   "execution_count": 16,
   "metadata": {},
   "outputs": [
    {
     "data": {
      "text/plain": [
       "0"
      ]
     },
     "execution_count": 16,
     "metadata": {},
     "output_type": "execute_result"
    }
   ],
   "source": [
    "valid_ghis.true.isna().sum()"
   ]
  },
  {
   "cell_type": "code",
   "execution_count": 18,
   "metadata": {},
   "outputs": [],
   "source": [
    "import matplotlib.pyplot as plt"
   ]
  },
  {
   "cell_type": "code",
   "execution_count": 27,
   "metadata": {},
   "outputs": [
    {
     "data": {
      "image/png": "[encoded data removed]",
      "text/plain": [
       "<Figure size 432x288 with 1 Axes>"
      ]
     },
     "metadata": {
      "needs_background": "light"
     },
     "output_type": "display_data"
    }
   ],
   "source": [
    "bins = np.linspace(t.min(),t.max(),100)\n",
    "\n",
    "plt.hist(t, bins, alpha=0.5, label='True GHI')\n",
    "plt.hist(v, bins, alpha=0.5, label='Clearsky GHI')\n",
    "plt.title('Distribution of Clearsky and True GHI Values')\n",
    "plt.xlabel(\"GHI Value\")\n",
    "plt.ylabel(\"Frequency\")\n",
    "plt.legend(loc='upper right')\n",
    "plt.savefig(\"GHI Distributions.png\")\n",
    "plt.show()"
   ]
  },
  {
   "cell_type": "code",
   "execution_count": null,
   "metadata": {},
   "outputs": [],
   "source": []
  }
 ],
 "metadata": {
  "kernelspec": {
   "display_name": "Python 3",
   "language": "python",
   "name": "python3"
  },
  "language_info": {
   "codemirror_mode": {
    "name": "ipython",
    "version": 3
   },
   "file_extension": ".py",
   "mimetype": "text/x-python",
   "name": "python",
   "nbconvert_exporter": "python",
   "pygments_lexer": "ipython3",
   "version": "3.7.4"
  }
 },
 "nbformat": 4,
 "nbformat_minor": 4
}
